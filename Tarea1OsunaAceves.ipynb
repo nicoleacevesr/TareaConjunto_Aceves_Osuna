{
 "cells": [
  {
   "cell_type": "markdown",
   "metadata": {},
   "source": [
    "# Tarea 1."
   ]
  },
  {
   "cell_type": "markdown",
   "metadata": {},
   "source": [
    "* De este curso esperamos obtener las competencias adecuadas para evaluar procesos financieros en periodos de tiempo y lo que estos implican y los distintos escenarios que esto puede implicar para poder interpretar y tomar decisiones de manera óptima.\n",
    "* Perfeccionar mis conocimientos de programación y del uso de estas herramientas."
   ]
  },
  {
   "cell_type": "markdown",
   "metadata": {},
   "source": [
    "## Látex."
   ]
  },
  {
   "cell_type": "markdown",
   "metadata": {},
   "source": [
    "La fórmula el rectángulo se obtiene al interpolar a $f(x)$ por medio del polinomio constante $p_0(x)$ = $f(\\frac{a+b}{2})$.\n",
    "    \\begin{equation}\n",
    "    \\int_{a}^{b} f(x) \\,dx\\approx (b-a) f\\frac{a+b}{2} = R(f)\n",
    "    \\end{equation}\n",
    "    \n",
    "La fórmula del trapecio se obtiene al interpolar a $f$ por medio de un polinomio lineal $p_1(x)$ = $\\alpha$x + $\\beta$ que satisfaga $f(a) = p_1(a)$, y $f(b) = p_1(b).$ Determinar el polinomio lineal es equivalente a resolver un sistema de ecuaciones lineales para $\\alpha$ y $\\beta$  cuya solución es\n",
    "    \\begin{equation}\n",
    "        \\alpha = \\frac{f(b)-f(a)}{b-a} \n",
    "        \\beta = \\frac{f(b)a-f(a)b}{b-a}\n",
    "    \\end{equation}\n",
    "   \n",
    "   Al integrar $p_1(x)$ en el intervalo $[a,b]$ se obtiene la regla del trapecio con $h = b - a$\n",
    "   \n",
    "   \\begin{equation}\n",
    "   \\int{a}^{b} f(x) \\,dx\\approx \\int{a}^{b} p_1(x) \\, dx = \\frac{h}{2}(f(a)+f(b)) = T(f)\n",
    "   \\end{equation}\n",
    "   \n",
    "   El error esta dado por\n",
    "   \\begin{equation}\n",
    "       \\int{a}^{b} f(x)\\,dx - T(f)= \\frac{h^3}{12}(f''(n)), a < n < b\n",
    "   \\end{equation}\n",
    "   \n",
    "   Por último al integrar el polinomio cuadrático que interpola a $f$ en $x = a, x = \\frac{a+b}{2}$ y $x = b$ se obtiene la regla de Simpson con $h = \\frac{b-a}{2}$\n",
    "   \\begin{equation}\n",
    "       \\int{a}^{b} f(x) \\,dx\\approx \\int{a}^{b} p_2(x) \\,dx= \\frac{h}{3}(f(a)+4f(a+h)+f(b)) = S(f).\n",
    "   \\end{equation}\n",
    "   \n",
    "   El error que se comete al usar Simpson es\n",
    "   \\begin{equation}\n",
    "       \\int{a}^{b} \\,dx - S(f) = \\frac{h^5}{90}(f^4(n)), a < n < b.\n",
    "   \\end{equation}\n"
   ]
  },
  {
   "cell_type": "markdown",
   "metadata": {},
   "source": [
    "## Código "
   ]
  },
  {
   "cell_type": "markdown",
   "metadata": {},
   "source": [
    "Código Finonacci."
   ]
  },
  {
   "cell_type": "code",
   "execution_count": 3,
   "metadata": {},
   "outputs": [
    {
     "name": "stdout",
     "output_type": "stream",
     "text": [
      "354224848179261915075\n"
     ]
    }
   ],
   "source": [
    "n = 100\n",
    "a = 0    \n",
    "b = 1      \n",
    "\n",
    "for i in range(n):\n",
    "    c = b + a\n",
    "    a = b\n",
    "    b = c \n",
    "    \n",
    "print(a)   "
   ]
  },
  {
   "cell_type": "code",
   "execution_count": null,
   "metadata": {
    "collapsed": true
   },
   "outputs": [],
   "source": []
  }
 ],
 "metadata": {
  "kernelspec": {
   "display_name": "Python 3",
   "language": "python",
   "name": "python3"
  },
  "language_info": {
   "codemirror_mode": {
    "name": "ipython",
    "version": 3
   },
   "file_extension": ".py",
   "mimetype": "text/x-python",
   "name": "python",
   "nbconvert_exporter": "python",
   "pygments_lexer": "ipython3",
   "version": "3.6.1"
  }
 },
 "nbformat": 4,
 "nbformat_minor": 2
}
