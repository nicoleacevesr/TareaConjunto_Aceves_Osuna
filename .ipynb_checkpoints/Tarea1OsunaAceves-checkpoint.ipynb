{
 "cells": [
  {
   "cell_type": "markdown",
   "metadata": {},
   "source": [
    "<img style=\"float: left; margin: 30px 15px 15px 15px;\" src=\"https://pngimage.net/wp-content/uploads/2018/06/logo-iteso-png-5.png\" width=\"300\" height=\"500\" /> \n",
    "    \n",
    "    \n",
    "### <font color='navy'> Simulación de procesos financieros. \n",
    "\n",
    "**Nombres:** Nicole Aceves Ramírez y Rodrigo Osuna Ríos.\n",
    "\n",
    "**Fecha:** 5 de septiembre de 2019.\n",
    "\n",
    "**Expediente** : 710640.\n",
    "**Profesor:** Óscar David Jaramillo Zuloaga.\n",
    "\n"
   ]
  },
  {
   "cell_type": "markdown",
   "metadata": {},
   "source": [
    "# <font color='navy'> Tarea 1."
   ]
  },
  {
   "cell_type": "markdown",
   "metadata": {},
   "source": [
    "**Link a repositorio:** \n",
    "https://github.com/nicoleacevesr/TareaConjunto_Aceves_Osuna"
   ]
  },
  {
   "cell_type": "markdown",
   "metadata": {},
   "source": [
    "A lo largo de nuestra carrera hemos aprendido y desarrollado competencias para poder comprender el mundo de las finanzas y todos los procesos que este puede tener. Hemos aprendido a manejar programación, matemáticas y economía para entender todos estos fenómenos dentro de las finanzas y en esta materia podemos hacer una cambinacipon de todo esto para observar sus compprtamietos y como esto se llevan a cabo. Nuestros objetivos son los siguientes:\n",
    "* De este curso esperamos _**obtener las competencias adecuadas**_ para evaluar procesos financieros en periodos de tiempo y lo que estos implican y los distintos escenarios que esto puede implicar para poder interpretar y tomar decisiones de manera óptima.\n",
    "* _**Perfeccionar**_ mis conocimientos de programación y del uso de estas herramientas.\n",
    "* _**Aprender a identificar**_ todos los tipos de conflictos que pueden existir en estos procesos financieros y como llegar a soluciones para estos."
   ]
  },
  {
   "cell_type": "markdown",
   "metadata": {},
   "source": [
    "##  <font color='navy'> Python is becoming the world's most popular coding language\n",
    "\n",
    "\n",
    "<img style=\"float: left; margin: 30px 15px 15px 15px;\" src=\"https://www.economist.com/sites/default/files/imagecache/640-width/20180728_WOC883.png\" width=\"500\" height=\"500\" />\n",
    "\n",
    "\n",
    "#### Resumen:\n",
    "\"Nunca pensé crear un lenguaje de programación que fuera usado por las masas.\" Fue lo que dijo *Guido van Rossum*, el creador de python. Pero 3 decadas despues de su creación(1989), Python es el lenguaje de programación más buscado por los americanos.\n",
    "Usando como ventaja la simplicidad y su flexibilidad, se han subido más de 145,000 paquetes de python customizados a diferentes repositorios. Con tan rapido crecimiento y variedad diferente de capacidades, python se esta convirtiendo en el lenguaje de programación de preferencia dejando a otros programas obsoletos. Aunque algunos programas con diferentes capacidades como *C++* y *Java* dificilmente seran reemplazados por el mismo. Aun con todo esto, los entusiastas de python no deben tomar por dada la supremacia del lenguaje, ya que en el pasado muchos programas que parecian dominantes fueron olvidados. "
   ]
  },
  {
   "cell_type": "markdown",
   "metadata": {},
   "source": [
    "## <font color='navy'> Látex."
   ]
  },
  {
   "cell_type": "markdown",
   "metadata": {},
   "source": [
    "La fórmula el rectángulo se obtiene al interpolar a $f(x)$ por medio del polinomio constante $p_0(x)$ = $f(\\frac{a+b}{2})$.\n",
    "    \\begin{equation}\n",
    "    \\int_{a}^{b} f(x) \\,dx\\approx (b-a) f\\frac{a+b}{2} = R(f)\n",
    "    \\end{equation}\n",
    "    \n",
    "La fórmula del trapecio se obtiene al interpolar a $f$ por medio de un polinomio lineal $p_1(x)$ = $\\alpha$x + $\\beta$ que satisfaga $f(a) = p_1(a)$, y $f(b) = p_1(b).$ Determinar el polinomio lineal es equivalente a resolver un sistema de ecuaciones lineales para $\\alpha$ y $\\beta$  cuya solución es\n",
    "    \\begin{equation}\n",
    "        \\alpha = \\frac{f(b)-f(a)}{b-a} \n",
    "        \\beta = \\frac{f(b)a-f(a)b}{b-a}\n",
    "    \\end{equation}\n",
    "   \n",
    "   Al integrar $p_1(x)$ en el intervalo $[a,b]$ se obtiene la regla del trapecio con $h = b - a$\n",
    "   \n",
    "   \\begin{equation}\n",
    "   \\int{a}^{b} f(x) \\,dx\\approx \\int{a}^{b} p_1(x) \\, dx = \\frac{h}{2}(f(a)+f(b)) = T(f)\n",
    "   \\end{equation}\n",
    "   \n",
    "   El error esta dado por\n",
    "   \\begin{equation}\n",
    "       \\int{a}^{b} f(x)\\,dx - T(f)= \\frac{h^3}{12}(f''(n)), a < n < b\n",
    "   \\end{equation}\n",
    "   \n",
    "   Por último al integrar el polinomio cuadrático que interpola a $f$ en $x = a, x = \\frac{a+b}{2}$ y $x = b$ se obtiene la regla de Simpson con $h = \\frac{b-a}{2}$\n",
    "   \\begin{equation}\n",
    "       \\int{a}^{b} f(x) \\,dx\\approx \\int{a}^{b} p_2(x) \\,dx= \\frac{h}{3}(f(a)+4f(a+h)+f(b)) = S(f).\n",
    "   \\end{equation}\n",
    "   \n",
    "   El error que se comete al usar Simpson es\n",
    "   \\begin{equation}\n",
    "       \\int{a}^{b} \\,dx - S(f) = \\frac{h^5}{90}(f^4(n)), a < n < b.\n",
    "   \\end{equation}\n"
   ]
  },
  {
   "cell_type": "markdown",
   "metadata": {},
   "source": [
    "## <font color='navy'> Códigos. "
   ]
  },
  {
   "cell_type": "markdown",
   "metadata": {},
   "source": [
    "**Código Finonacci.**"
   ]
  },
  {
   "cell_type": "code",
   "execution_count": 1,
   "metadata": {},
   "outputs": [
    {
     "name": "stdout",
     "output_type": "stream",
     "text": [
      "0 1 1 2 3 5 8 13 21 34 55 89 144 233 377 610 987 1597 2584 4181 6765 10946 17711 28657 46368 75025 121393 196418 317811 514229 832040 1346269 2178309 3524578 5702887 9227465 14930352 24157817 39088169 63245986 102334155 165580141 267914296 433494437 701408733 1134903170 1836311903 2971215073 4807526976 7778742049 12586269025 20365011074 32951280099 53316291173 86267571272 139583862445 225851433717 365435296162 591286729879 956722026041 1548008755920 2504730781961 4052739537881 6557470319842 10610209857723 17167680177565 27777890035288 44945570212853 72723460248141 117669030460994 190392490709135 308061521170129 498454011879264 806515533049393 1304969544928657 2111485077978050 3416454622906707 5527939700884757 8944394323791464 14472334024676221 23416728348467685 37889062373143906 61305790721611591 99194853094755497 160500643816367088 259695496911122585 420196140727489673 679891637638612258 1100087778366101931 1779979416004714189 2880067194370816120 4660046610375530309 7540113804746346429 12200160415121876738 19740274219868223167 31940434634990099905 51680708854858323072 83621143489848422977 135301852344706746049 218922995834555169026 354224848179261915075 "
     ]
    }
   ],
   "source": [
    "a = 0\n",
    "b = 1\n",
    "\n",
    "for i in range(101): #Para que salgan los primero 100.\n",
    "    print(a, end=' ')\n",
    "    a,b = b, a+b"
   ]
  },
  {
   "cell_type": "markdown",
   "metadata": {
    "collapsed": true
   },
   "source": [
    "**Números primos del 1 al 100**"
   ]
  },
  {
   "cell_type": "code",
   "execution_count": 1,
   "metadata": {},
   "outputs": [],
   "source": [
    "import sympy as sym"
   ]
  },
  {
   "cell_type": "code",
   "execution_count": 2,
   "metadata": {},
   "outputs": [
    {
     "name": "stdout",
     "output_type": "stream",
     "text": [
      "2\n",
      "3\n",
      "5\n",
      "7\n",
      "11\n",
      "13\n",
      "17\n",
      "19\n",
      "23\n",
      "29\n",
      "31\n",
      "37\n",
      "41\n",
      "43\n",
      "47\n",
      "53\n",
      "59\n",
      "61\n",
      "67\n",
      "71\n",
      "73\n",
      "79\n",
      "83\n",
      "89\n",
      "97\n"
     ]
    }
   ],
   "source": [
    "for x in range(1,101):\n",
    "    if sym.isprime(x):\n",
    "        print(x)"
   ]
  }
 ],
 "metadata": {
  "kernelspec": {
   "display_name": "Python 3",
   "language": "python",
   "name": "python3"
  },
  "language_info": {
   "codemirror_mode": {
    "name": "ipython",
    "version": 3
   },
   "file_extension": ".py",
   "mimetype": "text/x-python",
   "name": "python",
   "nbconvert_exporter": "python",
   "pygments_lexer": "ipython3",
   "version": "3.7.3"
  }
 },
 "nbformat": 4,
 "nbformat_minor": 2
}
